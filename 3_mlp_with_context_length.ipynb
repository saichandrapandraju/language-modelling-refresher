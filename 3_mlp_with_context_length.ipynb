{
 "cells": [
  {
   "cell_type": "code",
   "execution_count": 132,
   "metadata": {},
   "outputs": [],
   "source": [
    "import torch\n",
    "from names_dataset import NameDataset\n",
    "import re\n",
    "import matplotlib.pyplot as plt\n",
    "import torch.nn.functional as F\n",
    "import random\n",
    "%matplotlib inline"
   ]
  },
  {
   "cell_type": "code",
   "execution_count": 2,
   "metadata": {},
   "outputs": [],
   "source": [
    "SEED = 42"
   ]
  },
  {
   "cell_type": "markdown",
   "metadata": {},
   "source": [
    "# Data"
   ]
  },
  {
   "cell_type": "code",
   "execution_count": 3,
   "metadata": {},
   "outputs": [],
   "source": [
    "nd = NameDataset()"
   ]
  },
  {
   "cell_type": "code",
   "execution_count": 4,
   "metadata": {},
   "outputs": [],
   "source": [
    "country_codes = [\"US\", \"CA\", \"GB\", \"IN\"]            # USA, Canada, Great Britain, India"
   ]
  },
  {
   "cell_type": "code",
   "execution_count": 5,
   "metadata": {},
   "outputs": [],
   "source": [
    "dataset = set()\n",
    "dataset_size = 50000\n",
    "for code in country_codes:\n",
    "    data = nd.get_top_names(n=dataset_size, country_alpha2=code)\n",
    "    dataset.update(set(data[code]['M'] + data[code]['F']))"
   ]
  },
  {
   "cell_type": "code",
   "execution_count": 6,
   "metadata": {},
   "outputs": [
    {
     "data": {
      "text/plain": [
       "43231"
      ]
     },
     "execution_count": 6,
     "metadata": {},
     "output_type": "execute_result"
    }
   ],
   "source": [
    "len(dataset)"
   ]
  },
  {
   "cell_type": "code",
   "execution_count": 7,
   "metadata": {},
   "outputs": [],
   "source": [
    "# clean and make each name 1 word\n",
    "names = list()\n",
    "for name in dataset:\n",
    "    if re.match(r\"^[A-Za-z\\s]+$\", name):            # only consider names with english alphabets\n",
    "        for i in name.split():\n",
    "            if len(i)>1: names.append(i.lower())"
   ]
  },
  {
   "cell_type": "code",
   "execution_count": 8,
   "metadata": {},
   "outputs": [],
   "source": [
    "chars = sorted(list(set(''.join(names))))\n",
    "ctoi = {k:idx+1 for idx, k in enumerate(chars)}\n",
    "ctoi['.'] = 0\n",
    "itoc = {v:k for k,v in ctoi.items()}"
   ]
  },
  {
   "cell_type": "code",
   "execution_count": 9,
   "metadata": {},
   "outputs": [
    {
     "name": "stdout",
     "output_type": "stream",
     "text": [
      "{'a': 1, 'b': 2, 'c': 3, 'd': 4, 'e': 5, 'f': 6, 'g': 7, 'h': 8, 'i': 9, 'j': 10, 'k': 11, 'l': 12, 'm': 13, 'n': 14, 'o': 15, 'p': 16, 'q': 17, 'r': 18, 's': 19, 't': 20, 'u': 21, 'v': 22, 'w': 23, 'x': 24, 'y': 25, 'z': 26, '.': 0}\n"
     ]
    }
   ],
   "source": [
    "print(ctoi)"
   ]
  },
  {
   "attachments": {},
   "cell_type": "markdown",
   "metadata": {},
   "source": [
    "# Multi Layer Perceptron\n",
    "implementation of (Bengio et al. 2003 Neural Probabilistic LM paper)[https://www.jmlr.org/papers/volume3/bengio03a/bengio03a.pdf]\n",
    "\n",
    "![Neural Probabilistic LM](images/neural_prob_LM.png)\n"
   ]
  },
  {
   "attachments": {},
   "cell_type": "markdown",
   "metadata": {},
   "source": [
    "### Dataset"
   ]
  },
  {
   "cell_type": "code",
   "execution_count": 10,
   "metadata": {},
   "outputs": [],
   "source": [
    "context_length = 3  # block size\n",
    "x, y = [], []\n",
    "for name in names:\n",
    "    # print(name)\n",
    "    context = [0] * context_length\n",
    "    for c in name + '.':\n",
    "        idx = ctoi[c]\n",
    "        x.append(context)\n",
    "        y.append(idx)\n",
    "        # print(''.join([itoc[i] for i in context]), '------>', itoc[idx])\n",
    "        context = context[1:] + [idx]\n",
    "\n",
    "x = torch.tensor(x)\n",
    "y = torch.tensor(y)"
   ]
  },
  {
   "cell_type": "code",
   "execution_count": 11,
   "metadata": {},
   "outputs": [
    {
     "data": {
      "text/plain": [
       "(tensor([[ 0,  0,  0],\n",
       "         [ 0,  0, 14],\n",
       "         [ 0, 14,  5],\n",
       "         [14,  5,  7],\n",
       "         [ 5,  7, 26]]),\n",
       " tensor([14,  5,  7, 26, 26]))"
      ]
     },
     "execution_count": 11,
     "metadata": {},
     "output_type": "execute_result"
    }
   ],
   "source": [
    "x[:5], y[:5]"
   ]
  },
  {
   "attachments": {},
   "cell_type": "markdown",
   "metadata": {},
   "source": [
    "### Embedding (lookup)"
   ]
  },
  {
   "cell_type": "code",
   "execution_count": 12,
   "metadata": {},
   "outputs": [],
   "source": [
    "# Let's create a 2 dimensional lookup for the 27 chars we have\n",
    "C = torch.randn((27,2))"
   ]
  },
  {
   "cell_type": "code",
   "execution_count": 13,
   "metadata": {},
   "outputs": [
    {
     "data": {
      "text/plain": [
       "tensor([ 0.1850, -1.9612])"
      ]
     },
     "execution_count": 13,
     "metadata": {},
     "output_type": "execute_result"
    }
   ],
   "source": [
    "C[5]"
   ]
  },
  {
   "cell_type": "code",
   "execution_count": 14,
   "metadata": {},
   "outputs": [
    {
     "data": {
      "text/plain": [
       "tensor([ 0.1850, -1.9612])"
      ]
     },
     "execution_count": 14,
     "metadata": {},
     "output_type": "execute_result"
    }
   ],
   "source": [
    "F.one_hot(torch.tensor(5), num_classes=27).float()@C"
   ]
  },
  {
   "cell_type": "code",
   "execution_count": 15,
   "metadata": {},
   "outputs": [
    {
     "data": {
      "text/plain": [
       "tensor([[ 0.4619, -0.7100],\n",
       "        [-1.0147,  0.2709],\n",
       "        [ 0.1850, -1.9612]])"
      ]
     },
     "execution_count": 15,
     "metadata": {},
     "output_type": "execute_result"
    }
   ],
   "source": [
    "C[[3,4,5]]"
   ]
  },
  {
   "cell_type": "code",
   "execution_count": 16,
   "metadata": {},
   "outputs": [
    {
     "data": {
      "text/plain": [
       "tensor([[ 0,  0,  0],\n",
       "        [ 0,  0, 14],\n",
       "        [ 0, 14,  5],\n",
       "        [14,  5,  7]])"
      ]
     },
     "execution_count": 16,
     "metadata": {},
     "output_type": "execute_result"
    }
   ],
   "source": [
    "x[:4]"
   ]
  },
  {
   "cell_type": "code",
   "execution_count": 17,
   "metadata": {},
   "outputs": [
    {
     "data": {
      "text/plain": [
       "torch.Size([4, 3])"
      ]
     },
     "execution_count": 17,
     "metadata": {},
     "output_type": "execute_result"
    }
   ],
   "source": [
    "x[:4].shape"
   ]
  },
  {
   "cell_type": "code",
   "execution_count": 18,
   "metadata": {},
   "outputs": [
    {
     "data": {
      "text/plain": [
       "tensor([[[ 1.3335,  1.1781],\n",
       "         [ 1.3335,  1.1781],\n",
       "         [ 1.3335,  1.1781]],\n",
       "\n",
       "        [[ 1.3335,  1.1781],\n",
       "         [ 1.3335,  1.1781],\n",
       "         [ 0.7193, -0.4586]],\n",
       "\n",
       "        [[ 1.3335,  1.1781],\n",
       "         [ 0.7193, -0.4586],\n",
       "         [ 0.1850, -1.9612]],\n",
       "\n",
       "        [[ 0.7193, -0.4586],\n",
       "         [ 0.1850, -1.9612],\n",
       "         [ 0.2678, -1.6484]]])"
      ]
     },
     "execution_count": 18,
     "metadata": {},
     "output_type": "execute_result"
    }
   ],
   "source": [
    "C[x[:4]]"
   ]
  },
  {
   "cell_type": "code",
   "execution_count": 19,
   "metadata": {},
   "outputs": [
    {
     "data": {
      "text/plain": [
       "torch.Size([4, 3, 2])"
      ]
     },
     "execution_count": 19,
     "metadata": {},
     "output_type": "execute_result"
    }
   ],
   "source": [
    "C[x[:4]].shape"
   ]
  },
  {
   "cell_type": "code",
   "execution_count": 20,
   "metadata": {},
   "outputs": [
    {
     "data": {
      "text/plain": [
       "torch.Size([306991, 3, 2])"
      ]
     },
     "execution_count": 20,
     "metadata": {},
     "output_type": "execute_result"
    }
   ],
   "source": [
    "emb = C[x]\n",
    "emb.shape"
   ]
  },
  {
   "attachments": {},
   "cell_type": "markdown",
   "metadata": {},
   "source": [
    "## neural network"
   ]
  },
  {
   "attachments": {},
   "cell_type": "markdown",
   "metadata": {},
   "source": [
    "### detail"
   ]
  },
  {
   "cell_type": "code",
   "execution_count": 21,
   "metadata": {},
   "outputs": [
    {
     "data": {
      "text/plain": [
       "torch.Size([5, 3])"
      ]
     },
     "execution_count": 21,
     "metadata": {},
     "output_type": "execute_result"
    }
   ],
   "source": [
    "sample = x[:5]\n",
    "sample.shape"
   ]
  },
  {
   "cell_type": "code",
   "execution_count": 22,
   "metadata": {},
   "outputs": [
    {
     "data": {
      "text/plain": [
       "torch.Size([5, 3, 2])"
      ]
     },
     "execution_count": 22,
     "metadata": {},
     "output_type": "execute_result"
    }
   ],
   "source": [
    "# input to the model will be embeddings of the input\n",
    "model_inp = C[sample]\n",
    "model_inp.shape"
   ]
  },
  {
   "attachments": {},
   "cell_type": "markdown",
   "metadata": {},
   "source": [
    "Here the shape is ==> batch_size * context_len * embed_dim. That means, for each sample, the input shape fed to the nn is context_len * embed_dim (eg. 3*2)\n",
    "\n",
    "Let's create an input layer that has context_len * embed_dim neurons and 100 neurons in the hidden layer."
   ]
  },
  {
   "cell_type": "code",
   "execution_count": 23,
   "metadata": {},
   "outputs": [],
   "source": [
    "W1 = torch.randn((6,100))\n",
    "b1 = torch.randn((100))"
   ]
  },
  {
   "cell_type": "code",
   "execution_count": 24,
   "metadata": {},
   "outputs": [
    {
     "ename": "RuntimeError",
     "evalue": "mat1 and mat2 shapes cannot be multiplied (15x2 and 6x100)",
     "output_type": "error",
     "traceback": [
      "\u001b[0;31m---------------------------------------------------------------------------\u001b[0m",
      "\u001b[0;31mRuntimeError\u001b[0m                              Traceback (most recent call last)",
      "Cell \u001b[0;32mIn[24], line 2\u001b[0m\n\u001b[1;32m      1\u001b[0m \u001b[39m# we have to do Wx+b for each sample. but we can't as shown below\u001b[39;00m\n\u001b[0;32m----> 2\u001b[0m model_inp \u001b[39m@\u001b[39;49m W1 \u001b[39m+\u001b[39m b1\n",
      "\u001b[0;31mRuntimeError\u001b[0m: mat1 and mat2 shapes cannot be multiplied (15x2 and 6x100)"
     ]
    }
   ],
   "source": [
    "# we have to do Wx+b for each sample. but we can't as shown below\n",
    "model_inp @ W1 + b1"
   ]
  },
  {
   "attachments": {},
   "cell_type": "markdown",
   "metadata": {},
   "source": [
    "The error is because we cannot do matrix multiplication for 5x3x2 and 6x100. We have to concatenate all the dimensions for each input sample.\n",
    "\n",
    "i.e, we have to convert 5x3x2 to 5x6.\n",
    "\n",
    "There are multiple ways to do this but the most efficient(space & time) is torch has view() that doesn't create a new tensor but changes the dimension using the same memory."
   ]
  },
  {
   "cell_type": "code",
   "execution_count": 25,
   "metadata": {},
   "outputs": [
    {
     "data": {
      "text/plain": [
       "tensor([[[ 1.3335,  1.1781],\n",
       "         [ 1.3335,  1.1781],\n",
       "         [ 1.3335,  1.1781]],\n",
       "\n",
       "        [[ 1.3335,  1.1781],\n",
       "         [ 1.3335,  1.1781],\n",
       "         [ 0.7193, -0.4586]],\n",
       "\n",
       "        [[ 1.3335,  1.1781],\n",
       "         [ 0.7193, -0.4586],\n",
       "         [ 0.1850, -1.9612]],\n",
       "\n",
       "        [[ 0.7193, -0.4586],\n",
       "         [ 0.1850, -1.9612],\n",
       "         [ 0.2678, -1.6484]],\n",
       "\n",
       "        [[ 0.1850, -1.9612],\n",
       "         [ 0.2678, -1.6484],\n",
       "         [ 0.4222,  0.8013]]])"
      ]
     },
     "execution_count": 25,
     "metadata": {},
     "output_type": "execute_result"
    }
   ],
   "source": [
    "model_inp"
   ]
  },
  {
   "cell_type": "code",
   "execution_count": 26,
   "metadata": {},
   "outputs": [
    {
     "data": {
      "text/plain": [
       "tensor([[ 1.3335,  1.1781,  1.3335,  1.1781,  1.3335,  1.1781],\n",
       "        [ 1.3335,  1.1781,  1.3335,  1.1781,  0.7193, -0.4586],\n",
       "        [ 1.3335,  1.1781,  0.7193, -0.4586,  0.1850, -1.9612],\n",
       "        [ 0.7193, -0.4586,  0.1850, -1.9612,  0.2678, -1.6484],\n",
       "        [ 0.1850, -1.9612,  0.2678, -1.6484,  0.4222,  0.8013]])"
      ]
     },
     "execution_count": 26,
     "metadata": {},
     "output_type": "execute_result"
    }
   ],
   "source": [
    "# one naive way -\n",
    "torch.cat([model_inp[:, 0, :], model_inp[:, 1, :], model_inp[:, 2, :]], 1)"
   ]
  },
  {
   "cell_type": "code",
   "execution_count": 27,
   "metadata": {},
   "outputs": [
    {
     "data": {
      "text/plain": [
       "tensor([[ 1.3335,  1.1781,  1.3335,  1.1781,  1.3335,  1.1781],\n",
       "        [ 1.3335,  1.1781,  1.3335,  1.1781,  0.7193, -0.4586],\n",
       "        [ 1.3335,  1.1781,  0.7193, -0.4586,  0.1850, -1.9612],\n",
       "        [ 0.7193, -0.4586,  0.1850, -1.9612,  0.2678, -1.6484],\n",
       "        [ 0.1850, -1.9612,  0.2678, -1.6484,  0.4222,  0.8013]])"
      ]
     },
     "execution_count": 27,
     "metadata": {},
     "output_type": "execute_result"
    }
   ],
   "source": [
    "# another way -\n",
    "torch.cat(torch.unbind(model_inp, 1), 1)"
   ]
  },
  {
   "cell_type": "code",
   "execution_count": 28,
   "metadata": {},
   "outputs": [
    {
     "data": {
      "text/plain": [
       "tensor([[ 1.3335,  1.1781,  1.3335,  1.1781,  1.3335,  1.1781],\n",
       "        [ 1.3335,  1.1781,  1.3335,  1.1781,  0.7193, -0.4586],\n",
       "        [ 1.3335,  1.1781,  0.7193, -0.4586,  0.1850, -1.9612],\n",
       "        [ 0.7193, -0.4586,  0.1850, -1.9612,  0.2678, -1.6484],\n",
       "        [ 0.1850, -1.9612,  0.2678, -1.6484,  0.4222,  0.8013]])"
      ]
     },
     "execution_count": 28,
     "metadata": {},
     "output_type": "execute_result"
    }
   ],
   "source": [
    "# but the efficient way -\n",
    "model_inp.view((5,6))"
   ]
  },
  {
   "cell_type": "code",
   "execution_count": 29,
   "metadata": {},
   "outputs": [
    {
     "data": {
      "text/plain": [
       "tensor([ 0,  1,  2,  3,  4,  5,  6,  7,  8,  9, 10, 11, 12, 13, 14, 15, 16, 17,\n",
       "        18, 19, 20, 21, 22, 23])"
      ]
     },
     "execution_count": 29,
     "metadata": {},
     "output_type": "execute_result"
    }
   ],
   "source": [
    "## view's efficiency as long as total elements are same\n",
    "a = torch.arange(24)\n",
    "a"
   ]
  },
  {
   "cell_type": "code",
   "execution_count": 30,
   "metadata": {},
   "outputs": [
    {
     "data": {
      "text/plain": [
       "tensor([[ 0,  1],\n",
       "        [ 2,  3],\n",
       "        [ 4,  5],\n",
       "        [ 6,  7],\n",
       "        [ 8,  9],\n",
       "        [10, 11],\n",
       "        [12, 13],\n",
       "        [14, 15],\n",
       "        [16, 17],\n",
       "        [18, 19],\n",
       "        [20, 21],\n",
       "        [22, 23]])"
      ]
     },
     "execution_count": 30,
     "metadata": {},
     "output_type": "execute_result"
    }
   ],
   "source": [
    "a.view((12,2))"
   ]
  },
  {
   "cell_type": "code",
   "execution_count": 31,
   "metadata": {},
   "outputs": [
    {
     "data": {
      "text/plain": [
       "tensor([[[ 0,  1],\n",
       "         [ 2,  3],\n",
       "         [ 4,  5]],\n",
       "\n",
       "        [[ 6,  7],\n",
       "         [ 8,  9],\n",
       "         [10, 11]],\n",
       "\n",
       "        [[12, 13],\n",
       "         [14, 15],\n",
       "         [16, 17]],\n",
       "\n",
       "        [[18, 19],\n",
       "         [20, 21],\n",
       "         [22, 23]]])"
      ]
     },
     "execution_count": 31,
     "metadata": {},
     "output_type": "execute_result"
    }
   ],
   "source": [
    "a.view((4,3,2))"
   ]
  },
  {
   "cell_type": "code",
   "execution_count": 32,
   "metadata": {},
   "outputs": [
    {
     "data": {
      "text/plain": [
       "tensor([[[[ 0,  1],\n",
       "          [ 2,  3],\n",
       "          [ 4,  5]],\n",
       "\n",
       "         [[ 6,  7],\n",
       "          [ 8,  9],\n",
       "          [10, 11]]],\n",
       "\n",
       "\n",
       "        [[[12, 13],\n",
       "          [14, 15],\n",
       "          [16, 17]],\n",
       "\n",
       "         [[18, 19],\n",
       "          [20, 21],\n",
       "          [22, 23]]]])"
      ]
     },
     "execution_count": 32,
     "metadata": {},
     "output_type": "execute_result"
    }
   ],
   "source": [
    "a.view((2,2,3,2))"
   ]
  },
  {
   "cell_type": "code",
   "execution_count": 33,
   "metadata": {},
   "outputs": [
    {
     "name": "stderr",
     "output_type": "stream",
     "text": [
      "/var/folders/7v/p6dm1_f165zdwds1rtz7sw080000gn/T/ipykernel_10808/3775447253.py:2: UserWarning: TypedStorage is deprecated. It will be removed in the future and UntypedStorage will be the only storage class. This should only matter to you if you are using storages directly.  To access UntypedStorage directly, use tensor.untyped_storage() instead of tensor.storage()\n",
      "  a.storage()\n"
     ]
    },
    {
     "data": {
      "text/plain": [
       " 0\n",
       " 1\n",
       " 2\n",
       " 3\n",
       " 4\n",
       " 5\n",
       " 6\n",
       " 7\n",
       " 8\n",
       " 9\n",
       " 10\n",
       " 11\n",
       " 12\n",
       " 13\n",
       " 14\n",
       " 15\n",
       " 16\n",
       " 17\n",
       " 18\n",
       " 19\n",
       " 20\n",
       " 21\n",
       " 22\n",
       " 23\n",
       "[torch.storage.TypedStorage(dtype=torch.int64, device=cpu) of size 24]"
      ]
     },
     "execution_count": 33,
     "metadata": {},
     "output_type": "execute_result"
    }
   ],
   "source": [
    "# always stored as 1-d array in memory. But view gives us in the required shape by indexing\n",
    "a.storage()"
   ]
  },
  {
   "attachments": {},
   "cell_type": "markdown",
   "metadata": {},
   "source": [
    "Now this can be input to the nn layer with 6 neurons(inputs)."
   ]
  },
  {
   "cell_type": "code",
   "execution_count": 34,
   "metadata": {},
   "outputs": [
    {
     "data": {
      "text/plain": [
       "torch.Size([5, 100])"
      ]
     },
     "execution_count": 34,
     "metadata": {},
     "output_type": "execute_result"
    }
   ],
   "source": [
    "# properly multiply to get hidden states\n",
    "(model_inp.view((5,6)) @ W1 + b1).shape     # (5x6) @ (6x100) -> (5x100) - 100 dim activations of our 5 examples"
   ]
  },
  {
   "cell_type": "code",
   "execution_count": 35,
   "metadata": {},
   "outputs": [],
   "source": [
    "h1 = torch.tanh(model_inp.view((-1,6)) @ W1 + b1)       # 1)if -1, torch will infer. 2) tanh activation as used in the paper"
   ]
  },
  {
   "attachments": {},
   "cell_type": "markdown",
   "metadata": {},
   "source": [
    "Let's create output layer with 27 neurons because we have 27 characters"
   ]
  },
  {
   "cell_type": "code",
   "execution_count": 36,
   "metadata": {},
   "outputs": [],
   "source": [
    "W2 = torch.randn((100, 27))\n",
    "b2 = torch.randn((27))"
   ]
  },
  {
   "cell_type": "code",
   "execution_count": 37,
   "metadata": {},
   "outputs": [],
   "source": [
    "logits = h1 @ W2 + b2"
   ]
  },
  {
   "cell_type": "code",
   "execution_count": 38,
   "metadata": {},
   "outputs": [
    {
     "data": {
      "text/plain": [
       "torch.Size([5, 27])"
      ]
     },
     "execution_count": 38,
     "metadata": {},
     "output_type": "execute_result"
    }
   ],
   "source": [
    "logits.shape        # each input sample with log counts for each character out of which one has to be predicted"
   ]
  },
  {
   "cell_type": "code",
   "execution_count": 39,
   "metadata": {},
   "outputs": [],
   "source": [
    "counts = logits.exp()"
   ]
  },
  {
   "cell_type": "code",
   "execution_count": 40,
   "metadata": {},
   "outputs": [],
   "source": [
    "probs = counts/counts.sum(dim=1, keepdim=True)"
   ]
  },
  {
   "cell_type": "code",
   "execution_count": 41,
   "metadata": {},
   "outputs": [
    {
     "data": {
      "text/plain": [
       "torch.Size([5, 27])"
      ]
     },
     "execution_count": 41,
     "metadata": {},
     "output_type": "execute_result"
    }
   ],
   "source": [
    "probs.shape"
   ]
  },
  {
   "cell_type": "code",
   "execution_count": 42,
   "metadata": {},
   "outputs": [
    {
     "data": {
      "text/plain": [
       "tensor(1.)"
      ]
     },
     "execution_count": 42,
     "metadata": {},
     "output_type": "execute_result"
    }
   ],
   "source": [
    "probs[0].sum()"
   ]
  },
  {
   "cell_type": "code",
   "execution_count": 43,
   "metadata": {},
   "outputs": [
    {
     "data": {
      "text/plain": [
       "tensor([14,  5,  7, 26, 26])"
      ]
     },
     "execution_count": 43,
     "metadata": {},
     "output_type": "execute_result"
    }
   ],
   "source": [
    "Y = y[:5]\n",
    "Y       # actual/gold output"
   ]
  },
  {
   "cell_type": "code",
   "execution_count": 44,
   "metadata": {},
   "outputs": [
    {
     "data": {
      "text/plain": [
       "tensor([3.9265e-06, 1.0256e-10, 7.7295e-13, 1.2179e-05, 1.8512e-05])"
      ]
     },
     "execution_count": 44,
     "metadata": {},
     "output_type": "execute_result"
    }
   ],
   "source": [
    "pred_probs = probs[torch.arange(5), Y]\n",
    "pred_probs"
   ]
  },
  {
   "cell_type": "code",
   "execution_count": 45,
   "metadata": {},
   "outputs": [
    {
     "data": {
      "text/plain": [
       "tensor(17.1099)"
      ]
     },
     "execution_count": 45,
     "metadata": {},
     "output_type": "execute_result"
    }
   ],
   "source": [
    "loss = -probs[torch.arange(5), Y].log().mean()      # nll loss\n",
    "loss"
   ]
  },
  {
   "cell_type": "code",
   "execution_count": 46,
   "metadata": {},
   "outputs": [
    {
     "data": {
      "text/plain": [
       "3481"
      ]
     },
     "execution_count": 46,
     "metadata": {},
     "output_type": "execute_result"
    }
   ],
   "source": [
    "parameters = [C, W1, b1, W2, b2]\n",
    "sum(p.nelement() for p in parameters)           # total parameters of this network"
   ]
  },
  {
   "cell_type": "code",
   "execution_count": 47,
   "metadata": {},
   "outputs": [
    {
     "data": {
      "text/plain": [
       "tensor(17.1099)"
      ]
     },
     "execution_count": 47,
     "metadata": {},
     "output_type": "execute_result"
    }
   ],
   "source": [
    "counts = logits.exp()\n",
    "probs = counts/counts.sum(dim=1, keepdim=True)\n",
    "loss = -probs[torch.arange(5), y[:5]].log().mean()      # nll loss\n",
    "loss"
   ]
  },
  {
   "cell_type": "code",
   "execution_count": 48,
   "metadata": {},
   "outputs": [
    {
     "data": {
      "text/plain": [
       "tensor(17.1099)"
      ]
     },
     "execution_count": 48,
     "metadata": {},
     "output_type": "execute_result"
    }
   ],
   "source": [
    "# torch has an efficient implementation of calculating the above classification loss - F.cross_entropy\n",
    "F.cross_entropy(logits, y[:5])"
   ]
  },
  {
   "cell_type": "code",
   "execution_count": 49,
   "metadata": {},
   "outputs": [
    {
     "data": {
      "text/plain": [
       "tensor([0.0064, 0.0023, 0.0470, 0.9443])"
      ]
     },
     "execution_count": 49,
     "metadata": {},
     "output_type": "execute_result"
    }
   ],
   "source": [
    "# reason - 1 for effieciency -> torch calculates cross_entropy in fused kernels that makes broadcasted computation, no use of extra memory => both forward and backward passes are much more efficient\n",
    "# reason - 2 -> cross entropy is numerically well behaved , below is an example\n",
    "logits = torch.tensor([-2,-3,0,3])      # all good for normal values\n",
    "counts = logits.exp()\n",
    "probs = counts/counts.sum()\n",
    "probs"
   ]
  },
  {
   "cell_type": "code",
   "execution_count": 50,
   "metadata": {},
   "outputs": [
    {
     "data": {
      "text/plain": [
       "tensor([0.0064, 0.0000, 0.0471, 0.9465])"
      ]
     },
     "execution_count": 50,
     "metadata": {},
     "output_type": "execute_result"
    }
   ],
   "source": [
    "logits = torch.tensor([-2,-300,0,3])      # all good for extreme -ve values\n",
    "counts = logits.exp()\n",
    "probs = counts/counts.sum()\n",
    "probs"
   ]
  },
  {
   "cell_type": "code",
   "execution_count": 51,
   "metadata": {},
   "outputs": [
    {
     "data": {
      "text/plain": [
       "tensor([0., 0., 0., nan])"
      ]
     },
     "execution_count": 51,
     "metadata": {},
     "output_type": "execute_result"
    }
   ],
   "source": [
    "logits = torch.tensor([-2,-300,0,300])      # crashes for extreme +ve values (which are not uncommon in training)\n",
    "counts = logits.exp()\n",
    "probs = counts/counts.sum()\n",
    "probs"
   ]
  },
  {
   "cell_type": "code",
   "execution_count": 52,
   "metadata": {},
   "outputs": [
    {
     "data": {
      "text/plain": [
       "tensor([0.1353, 0.0000, 1.0000,    inf])"
      ]
     },
     "execution_count": 52,
     "metadata": {},
     "output_type": "execute_result"
    }
   ],
   "source": [
    "counts          # we got infinity here because of the way exp() works"
   ]
  },
  {
   "cell_type": "code",
   "execution_count": 53,
   "metadata": {},
   "outputs": [
    {
     "data": {
      "text/plain": [
       "tensor([0., 0., 0., 1.])"
      ]
     },
     "execution_count": 53,
     "metadata": {},
     "output_type": "execute_result"
    }
   ],
   "source": [
    "logits = torch.tensor([-2,-300,0,300]) - 300      # subtract the max number\n",
    "counts = logits.exp()\n",
    "probs = counts/counts.sum()\n",
    "probs"
   ]
  },
  {
   "cell_type": "code",
   "execution_count": 54,
   "metadata": {},
   "outputs": [
    {
     "data": {
      "text/plain": [
       "tensor([0., 0., 0., 1.])"
      ]
     },
     "execution_count": 54,
     "metadata": {},
     "output_type": "execute_result"
    }
   ],
   "source": [
    "counts"
   ]
  },
  {
   "cell_type": "code",
   "execution_count": 55,
   "metadata": {},
   "outputs": [],
   "source": [
    "# for training (backward pass), we need gradients\n",
    "for p in parameters:\n",
    "    p.requires_grad = True"
   ]
  },
  {
   "cell_type": "code",
   "execution_count": 56,
   "metadata": {},
   "outputs": [],
   "source": [
    "# training loop\n",
    "def train(epochs, batch_size):\n",
    "    for _ in range(epochs):\n",
    "        # forward pass\n",
    "        emb = C[x[:batch_size]]\n",
    "        h = torch.tanh(emb.view(-1, 6) @ W1 + b1)\n",
    "        logits = h @ W2 + b2\n",
    "        loss = F.cross_entropy(logits, y[:batch_size])\n",
    "        print(loss.item())\n",
    "        \n",
    "        # backward pass\n",
    "        for p in parameters:\n",
    "            p.grad = None\n",
    "        loss.backward()\n",
    "        \n",
    "        # update parameters\n",
    "        lr = 0.1\n",
    "        for p in parameters:\n",
    "            p.data += -lr * p.grad"
   ]
  },
  {
   "cell_type": "code",
   "execution_count": 57,
   "metadata": {},
   "outputs": [
    {
     "name": "stdout",
     "output_type": "stream",
     "text": [
      "14.757530212402344\n",
      "12.442512512207031\n",
      "10.501753807067871\n",
      "8.920267105102539\n",
      "7.649085521697998\n",
      "6.697340488433838\n",
      "5.959523677825928\n",
      "5.341253280639648\n",
      "4.804412841796875\n",
      "4.332081317901611\n"
     ]
    }
   ],
   "source": [
    "train(10, 32)"
   ]
  },
  {
   "cell_type": "code",
   "execution_count": 58,
   "metadata": {},
   "outputs": [],
   "source": [
    "# same training loop without print at each epoch but at the end\n",
    "def train(epochs, batch_size):\n",
    "    for _ in range(epochs):\n",
    "        # forward pass\n",
    "        emb = C[x[:batch_size]]\n",
    "        h = torch.tanh(emb.view(-1, 6) @ W1 + b1)\n",
    "        logits = h @ W2 + b2\n",
    "        loss = F.cross_entropy(logits, y[:batch_size])\n",
    "        \n",
    "        # backward pass\n",
    "        for p in parameters:\n",
    "            p.grad = None\n",
    "        loss.backward()\n",
    "        \n",
    "        # update parameters\n",
    "        lr = 0.1\n",
    "        for p in parameters:\n",
    "            p.data += -lr * p.grad\n",
    "    print(loss.item())"
   ]
  },
  {
   "cell_type": "code",
   "execution_count": 67,
   "metadata": {},
   "outputs": [
    {
     "name": "stdout",
     "output_type": "stream",
     "text": [
      "0.17777201533317566\n"
     ]
    }
   ],
   "source": [
    "train(100, 32)      ## currently overfitting b/c we're training only for 32 (one batch) examples and have 3481 parameters. (parameters >> training samples)"
   ]
  },
  {
   "attachments": {},
   "cell_type": "markdown",
   "metadata": {},
   "source": [
    "### training implementation"
   ]
  },
  {
   "cell_type": "code",
   "execution_count": 68,
   "metadata": {},
   "outputs": [
    {
     "data": {
      "text/plain": [
       "(torch.Size([306991, 3]), torch.Size([306991]))"
      ]
     },
     "execution_count": 68,
     "metadata": {},
     "output_type": "execute_result"
    }
   ],
   "source": [
    "x.shape, y.shape"
   ]
  },
  {
   "cell_type": "code",
   "execution_count": 107,
   "metadata": {},
   "outputs": [
    {
     "name": "stdout",
     "output_type": "stream",
     "text": [
      "total number of parameters 3481\n"
     ]
    }
   ],
   "source": [
    "## init model\n",
    "\n",
    "g = torch.Generator().manual_seed(SEED)\n",
    "C = torch.randn((27,2), generator=g)\n",
    "W1 = torch.randn((6, 100), generator=g)\n",
    "b1 = torch.randn(100, generator=g)\n",
    "W2 = torch.randn((100, 27), generator=g)\n",
    "b2 = torch.randn((27), generator=g)\n",
    "parameters = [C, W1, b1, W2, b2]\n",
    "\n",
    "print(f\"total number of parameters {sum(p.nelement() for p in parameters)}\")\n",
    "\n",
    "for p in parameters:\n",
    "    p.requires_grad = True  "
   ]
  },
  {
   "cell_type": "code",
   "execution_count": 75,
   "metadata": {},
   "outputs": [],
   "source": [
    "def train(epochs=10):\n",
    "    for _ in range(epochs):\n",
    "        # forward pass\n",
    "        emb = C[x]\n",
    "        h = torch.tanh(emb.view(-1, 6) @ W1 + b1)\n",
    "        logits = h @ W2 + b2\n",
    "        loss = F.cross_entropy(logits, y)\n",
    "        print(loss.item())\n",
    "        \n",
    "        # backward pass\n",
    "        for p in parameters:\n",
    "            p.grad = None\n",
    "        loss.backward()\n",
    "        \n",
    "        # update parameters\n",
    "        lr = 0.1\n",
    "        for p in parameters:\n",
    "            p.data += -lr * p.grad"
   ]
  },
  {
   "cell_type": "code",
   "execution_count": 76,
   "metadata": {},
   "outputs": [
    {
     "name": "stdout",
     "output_type": "stream",
     "text": [
      "17.017581939697266\n",
      "15.313886642456055\n",
      "14.293935775756836\n",
      "13.460793495178223\n",
      "12.73753547668457\n",
      "12.160568237304688\n",
      "11.671038627624512\n",
      "11.240046501159668\n",
      "10.853802680969238\n",
      "10.510765075683594\n"
     ]
    }
   ],
   "source": [
    "train(10)       ## taking more time for each epoch since we're doing forward and backward for whole training data, so let's do batched training(minibatches)"
   ]
  },
  {
   "cell_type": "code",
   "execution_count": 77,
   "metadata": {},
   "outputs": [
    {
     "data": {
      "text/plain": [
       "tensor([3, 8, 7, 1, 2, 6, 7, 4, 8, 8, 0, 6, 2, 0, 3, 8, 1, 1, 0, 7, 6, 4, 1, 5,\n",
       "        4, 6, 5, 1, 7, 3, 8, 3])"
      ]
     },
     "execution_count": 77,
     "metadata": {},
     "output_type": "execute_result"
    }
   ],
   "source": [
    "# we can create minibatch by selecting <batch_size> examples randomly from the training data\n",
    "batch_size = 32\n",
    "torch.randint(0, 10, (batch_size,)) # this gives 32 numbers(indices in our case) from [0, 10)"
   ]
  },
  {
   "cell_type": "code",
   "execution_count": 78,
   "metadata": {},
   "outputs": [
    {
     "data": {
      "text/plain": [
       "tensor([209112, 201644,   6384, 189524, 238167, 203028, 219821, 207094, 235797,\n",
       "         10486, 218455, 220636, 142283, 239068, 283682, 244342, 277440,  77385,\n",
       "        256171, 186102, 280516,  48286, 253093, 150152, 179557, 131852, 265752,\n",
       "         19167, 137553,  44667,  19784, 217942])"
      ]
     },
     "execution_count": 78,
     "metadata": {},
     "output_type": "execute_result"
    }
   ],
   "source": [
    "# let's select indices for out training dataset length so that we can index from the training data\n",
    "torch.randint(0, x.shape[0], (batch_size,))"
   ]
  },
  {
   "cell_type": "code",
   "execution_count": 79,
   "metadata": {},
   "outputs": [
    {
     "data": {
      "text/plain": [
       "torch.Size([32, 3])"
      ]
     },
     "execution_count": 79,
     "metadata": {},
     "output_type": "execute_result"
    }
   ],
   "source": [
    "x[torch.randint(0, x.shape[0], (batch_size,))].shape"
   ]
  },
  {
   "cell_type": "code",
   "execution_count": 83,
   "metadata": {},
   "outputs": [],
   "source": [
    "# let's do minibatch training\n",
    "def train(steps=10, batch_size=32):\n",
    "    for _ in range(steps):\n",
    "        # minibatch\n",
    "        ix = torch.randint(0, x.shape[0], (batch_size,))\n",
    "        # forward pass\n",
    "        emb = C[x[ix]]\n",
    "        h = torch.tanh(emb.view(-1, 6) @ W1 + b1)\n",
    "        logits = h @ W2 + b2\n",
    "        loss = F.cross_entropy(logits, y[ix])\n",
    "        # print(loss.item())\n",
    "        \n",
    "        # backward pass\n",
    "        for p in parameters:\n",
    "            p.grad = None\n",
    "        loss.backward()\n",
    "        \n",
    "        # update parameters\n",
    "        lr = 0.1\n",
    "        for p in parameters:\n",
    "            p.data += -lr * p.grad\n",
    "    print(loss.item())"
   ]
  },
  {
   "cell_type": "code",
   "execution_count": 81,
   "metadata": {},
   "outputs": [
    {
     "name": "stdout",
     "output_type": "stream",
     "text": [
      "9.95998764038086\n",
      "10.172564506530762\n",
      "9.74691104888916\n",
      "9.980635643005371\n",
      "8.728821754455566\n",
      "8.889914512634277\n",
      "9.491644859313965\n",
      "10.418598175048828\n",
      "7.901980400085449\n",
      "9.502591133117676\n"
     ]
    }
   ],
   "source": [
    "train(10, 32)   # much faster, but the gradient may not be reliable because of the fluctuations. But it works over the entire training data emperically since the direction of the gradient will be to the minimum though it fluctuates"
   ]
  },
  {
   "cell_type": "code",
   "execution_count": 82,
   "metadata": {},
   "outputs": [
    {
     "name": "stdout",
     "output_type": "stream",
     "text": [
      "8.306142807006836\n"
     ]
    }
   ],
   "source": [
    "# calculate loss for the entire training set\n",
    "emb = C[x]\n",
    "h = torch.tanh(emb.view(-1, 6) @ W1 + b1)\n",
    "logits = h @ W2 + b2\n",
    "loss = F.cross_entropy(logits, y)\n",
    "print(loss.item())"
   ]
  },
  {
   "cell_type": "code",
   "execution_count": 92,
   "metadata": {},
   "outputs": [
    {
     "name": "stdout",
     "output_type": "stream",
     "text": [
      "2.7768492698669434\n"
     ]
    }
   ],
   "source": [
    "train(1000, 32)     # commented print in train for loop "
   ]
  },
  {
   "cell_type": "code",
   "execution_count": 93,
   "metadata": {},
   "outputs": [
    {
     "name": "stdout",
     "output_type": "stream",
     "text": [
      "2.5457804203033447\n"
     ]
    }
   ],
   "source": [
    "# calculate loss for the entire training set\n",
    "emb = C[x]\n",
    "h = torch.tanh(emb.view(-1, 6) @ W1 + b1)\n",
    "logits = h @ W2 + b2\n",
    "loss = F.cross_entropy(logits, y)\n",
    "print(loss.item())"
   ]
  },
  {
   "attachments": {},
   "cell_type": "markdown",
   "metadata": {},
   "source": [
    "Let's determine the good learning rate"
   ]
  },
  {
   "cell_type": "code",
   "execution_count": 111,
   "metadata": {},
   "outputs": [
    {
     "name": "stdout",
     "output_type": "stream",
     "text": [
      "total number of parameters 3481\n"
     ]
    }
   ],
   "source": [
    "# reset parameters\n",
    "\n",
    "g = torch.Generator().manual_seed(SEED)\n",
    "C = torch.randn((27,2), generator=g)\n",
    "W1 = torch.randn((6, 100), generator=g)\n",
    "b1 = torch.randn(100, generator=g)\n",
    "W2 = torch.randn((100, 27), generator=g)\n",
    "b2 = torch.randn((27), generator=g)\n",
    "parameters = [C, W1, b1, W2, b2]\n",
    "\n",
    "print(f\"total number of parameters {sum(p.nelement() for p in parameters)}\")\n",
    "\n",
    "for p in parameters:\n",
    "    p.requires_grad = True  "
   ]
  },
  {
   "cell_type": "code",
   "execution_count": 112,
   "metadata": {},
   "outputs": [
    {
     "data": {
      "text/plain": [
       "1000"
      ]
     },
     "execution_count": 112,
     "metadata": {},
     "output_type": "execute_result"
    }
   ],
   "source": [
    "lre = torch.linspace(-3, 0, 1000)   # 1000 linearly spaced numbers b/w -3 and 0, these are used as exponents\n",
    "lrs = 10**lre       # we get 1000 values from 0.001 and 1 stepped exponentially  \n",
    "len(lrs)"
   ]
  },
  {
   "cell_type": "code",
   "execution_count": 113,
   "metadata": {},
   "outputs": [],
   "source": [
    "lri = []\n",
    "lossi = []\n",
    "for i in range(1000):       # same number of steps as lrs\n",
    "    # minibatch\n",
    "    ix = torch.randint(0, x.shape[0], (batch_size,))\n",
    "    # forward pass\n",
    "    emb = C[x[ix]]\n",
    "    h = torch.tanh(emb.view(-1, 6) @ W1 + b1)\n",
    "    logits = h @ W2 + b2\n",
    "    loss = F.cross_entropy(logits, y[ix])\n",
    "    # print(loss.item())\n",
    "    \n",
    "    # backward pass\n",
    "    for p in parameters:\n",
    "        p.grad = None\n",
    "    loss.backward()\n",
    "    \n",
    "    # update parameters\n",
    "    lr = lrs[i]\n",
    "    for p in parameters:\n",
    "        p.data += -lr * p.grad\n",
    "    \n",
    "    # track stats\n",
    "    lri.append(lre[i])\n",
    "    lossi.append(loss.item())\n",
    "    "
   ]
  },
  {
   "cell_type": "code",
   "execution_count": 114,
   "metadata": {},
   "outputs": [
    {
     "data": {
      "text/plain": [
       "[<matplotlib.lines.Line2D at 0x2a1ae0fa0>]"
      ]
     },
     "execution_count": 114,
     "metadata": {},
     "output_type": "execute_result"
    },
    {
     "data": {
      "image/png": "[encoded data removed]",
      "text/plain": [
       "<Figure size 640x480 with 1 Axes>"
      ]
     },
     "metadata": {},
     "output_type": "display_data"
    }
   ],
   "source": [
    "plt.plot(lri, lossi)"
   ]
  },
  {
   "attachments": {},
   "cell_type": "markdown",
   "metadata": {},
   "source": [
    "from the plot, lre ~ -1 is good enough. so lr = 10**-1 = 0.1 is good, what we took initially is good :-)"
   ]
  },
  {
   "cell_type": "code",
   "execution_count": 115,
   "metadata": {},
   "outputs": [
    {
     "name": "stdout",
     "output_type": "stream",
     "text": [
      "total number of parameters 3481\n"
     ]
    }
   ],
   "source": [
    "# let's train with this learning rate\n",
    "## init model\n",
    "\n",
    "g = torch.Generator().manual_seed(SEED)\n",
    "C = torch.randn((27,2), generator=g)\n",
    "W1 = torch.randn((6, 100), generator=g)\n",
    "b1 = torch.randn(100, generator=g)\n",
    "W2 = torch.randn((100, 27), generator=g)\n",
    "b2 = torch.randn((27), generator=g)\n",
    "parameters = [C, W1, b1, W2, b2]\n",
    "\n",
    "print(f\"total number of parameters {sum(p.nelement() for p in parameters)}\")\n",
    "\n",
    "for p in parameters:\n",
    "    p.requires_grad = True  "
   ]
  },
  {
   "cell_type": "code",
   "execution_count": 116,
   "metadata": {},
   "outputs": [],
   "source": [
    "lr = 0.1"
   ]
  },
  {
   "cell_type": "code",
   "execution_count": 117,
   "metadata": {},
   "outputs": [],
   "source": [
    "# let's do minibatch training\n",
    "def train(steps=10, batch_size=32, lr=0.1):\n",
    "    for _ in range(steps):\n",
    "        # minibatch\n",
    "        ix = torch.randint(0, x.shape[0], (batch_size,))\n",
    "        # forward pass\n",
    "        emb = C[x[ix]]\n",
    "        h = torch.tanh(emb.view(-1, 6) @ W1 + b1)\n",
    "        logits = h @ W2 + b2\n",
    "        loss = F.cross_entropy(logits, y[ix])\n",
    "        # print(loss.item())\n",
    "        \n",
    "        # backward pass\n",
    "        for p in parameters:\n",
    "            p.grad = None\n",
    "        loss.backward()\n",
    "        \n",
    "        # update parameters\n",
    "        for p in parameters:\n",
    "            p.data += -lr * p.grad"
   ]
  },
  {
   "cell_type": "code",
   "execution_count": 118,
   "metadata": {},
   "outputs": [],
   "source": [
    "def calc_overall_loss():\n",
    "    # calculate loss for the entire training set\n",
    "    emb = C[x]\n",
    "    h = torch.tanh(emb.view(-1, 6) @ W1 + b1)\n",
    "    logits = h @ W2 + b2\n",
    "    loss = F.cross_entropy(logits, y)\n",
    "    print(loss.item())"
   ]
  },
  {
   "cell_type": "code",
   "execution_count": 119,
   "metadata": {},
   "outputs": [],
   "source": [
    "# let's train for 10,000 steps\n",
    "train(10000, 32, 0.1)"
   ]
  },
  {
   "cell_type": "code",
   "execution_count": 120,
   "metadata": {},
   "outputs": [
    {
     "name": "stdout",
     "output_type": "stream",
     "text": [
      "2.4817726612091064\n"
     ]
    }
   ],
   "source": [
    "calc_overall_loss()"
   ]
  },
  {
   "cell_type": "code",
   "execution_count": 121,
   "metadata": {},
   "outputs": [
    {
     "name": "stdout",
     "output_type": "stream",
     "text": [
      "2.448557138442993\n"
     ]
    }
   ],
   "source": [
    "# let's train for another 10,000 steps\n",
    "train(10000, 32, 0.1)\n",
    "calc_overall_loss()"
   ]
  },
  {
   "cell_type": "code",
   "execution_count": 127,
   "metadata": {},
   "outputs": [
    {
     "name": "stdout",
     "output_type": "stream",
     "text": [
      "2.4298393726348877\n"
     ]
    }
   ],
   "source": [
    "# let's train for one more 10,000 steps\n",
    "train(10000, 32, 0.1)\n",
    "calc_overall_loss()"
   ]
  },
  {
   "attachments": {},
   "cell_type": "markdown",
   "metadata": {},
   "source": [
    "surpassed the performance of the bigram model in the previous notebook 🥳"
   ]
  },
  {
   "cell_type": "code",
   "execution_count": 128,
   "metadata": {},
   "outputs": [
    {
     "name": "stdout",
     "output_type": "stream",
     "text": [
      "2.3766236305236816\n"
     ]
    }
   ],
   "source": [
    "# let's decay the learning rate by 10%. at the end of the training, we can reduce the lr to take tiny steps to minima\n",
    "# let's train for another 10,000 steps\n",
    "train(10000, 32, 0.01)\n",
    "calc_overall_loss()"
   ]
  },
  {
   "cell_type": "code",
   "execution_count": 129,
   "metadata": {},
   "outputs": [
    {
     "name": "stdout",
     "output_type": "stream",
     "text": [
      "2.3752195835113525\n"
     ]
    }
   ],
   "source": [
    "# let's train again for another 10,000 steps\n",
    "train(10000, 32, 0.01)\n",
    "calc_overall_loss()"
   ]
  },
  {
   "cell_type": "code",
   "execution_count": 130,
   "metadata": {},
   "outputs": [
    {
     "name": "stdout",
     "output_type": "stream",
     "text": [
      "2.3739705085754395\n"
     ]
    }
   ],
   "source": [
    "# one more\n",
    "train(10000, 32, 0.01)\n",
    "calc_overall_loss()"
   ]
  },
  {
   "attachments": {},
   "cell_type": "markdown",
   "metadata": {},
   "source": [
    "we don't know whether we're actually improving or overfitting here. So let's divide the data into train, dev and test splits\n",
    "\n",
    "train set - tune model parameters\n",
    "\n",
    "dev set - tune hyperparameters\n",
    "\n",
    "test set - estimate actual perf, use very sparingly"
   ]
  },
  {
   "cell_type": "code",
   "execution_count": 133,
   "metadata": {},
   "outputs": [],
   "source": [
    "def build_dataset(names):\n",
    "    context_length = 3  # block size\n",
    "    x, y = [], []\n",
    "    for name in names:\n",
    "        # print(name)\n",
    "        context = [0] * context_length\n",
    "        for c in name + '.':\n",
    "            idx = ctoi[c]\n",
    "            x.append(context)\n",
    "            y.append(idx)\n",
    "            # print(''.join([itoc[i] for i in context]), '------>', itoc[idx])\n",
    "            context = context[1:] + [idx]\n",
    "\n",
    "    x = torch.tensor(x)\n",
    "    y = torch.tensor(y)\n",
    "    return x, y\n",
    "random.seed(SEED)\n",
    "random.shuffle(names)\n",
    "n1, n2 = int(0.8*len(names)), int(0.9*len(names))\n",
    "x_tr, y_tr = build_dataset(names[: n1])\n",
    "x_dev, y_dev = build_dataset(names[n1: n2])\n",
    "x_test, y_test = build_dataset(names[n2:])"
   ]
  },
  {
   "cell_type": "code",
   "execution_count": 134,
   "metadata": {},
   "outputs": [
    {
     "data": {
      "text/plain": [
       "(245708, 30505, 30778)"
      ]
     },
     "execution_count": 134,
     "metadata": {},
     "output_type": "execute_result"
    }
   ],
   "source": [
    "len(x_tr), len(x_dev), len(x_test)"
   ]
  },
  {
   "cell_type": "code",
   "execution_count": 153,
   "metadata": {},
   "outputs": [
    {
     "name": "stdout",
     "output_type": "stream",
     "text": [
      "total number of parameters 3481\n"
     ]
    }
   ],
   "source": [
    "# let's train with this learning rate\n",
    "## init model\n",
    "\n",
    "g = torch.Generator().manual_seed(SEED)\n",
    "C = torch.randn((27,2), generator=g)\n",
    "W1 = torch.randn((6, 100), generator=g)\n",
    "b1 = torch.randn(100, generator=g)\n",
    "W2 = torch.randn((100, 27), generator=g)\n",
    "b2 = torch.randn((27), generator=g)\n",
    "parameters = [C, W1, b1, W2, b2]\n",
    "\n",
    "print(f\"total number of parameters {sum(p.nelement() for p in parameters)}\")\n",
    "\n",
    "for p in parameters:\n",
    "    p.requires_grad = True  "
   ]
  },
  {
   "cell_type": "code",
   "execution_count": 154,
   "metadata": {},
   "outputs": [],
   "source": [
    "# let's do minibatch training\n",
    "def train(steps=10, batch_size=32, lr=0.1):\n",
    "    for _ in range(steps):\n",
    "        # minibatch\n",
    "        ix = torch.randint(0, x_tr.shape[0], (batch_size,))\n",
    "        # forward pass\n",
    "        emb = C[x_tr[ix]]\n",
    "        h = torch.tanh(emb.view(-1, 6) @ W1 + b1)\n",
    "        logits = h @ W2 + b2\n",
    "        loss = F.cross_entropy(logits, y_tr[ix])\n",
    "        # print(loss.item())\n",
    "        \n",
    "        # backward pass\n",
    "        for p in parameters:\n",
    "            p.grad = None\n",
    "        loss.backward()\n",
    "        \n",
    "        # update parameters\n",
    "        for p in parameters:\n",
    "            p.data += -lr * p.grad"
   ]
  },
  {
   "cell_type": "code",
   "execution_count": 155,
   "metadata": {},
   "outputs": [],
   "source": [
    "def calc_overall_loss(x=x_dev, y=y_dev):\n",
    "    # calculate loss for the entire training set\n",
    "    emb = C[x]\n",
    "    h = torch.tanh(emb.view(-1, 6) @ W1 + b1)\n",
    "    logits = h @ W2 + b2\n",
    "    loss = F.cross_entropy(logits, y)\n",
    "    print(loss.item())"
   ]
  },
  {
   "cell_type": "code",
   "execution_count": 156,
   "metadata": {},
   "outputs": [
    {
     "name": "stdout",
     "output_type": "stream",
     "text": [
      "2.4018607139587402\n"
     ]
    }
   ],
   "source": [
    "# let's train for 10,000 steps\n",
    "train(30000, 32, 0.1)\n",
    "calc_overall_loss()"
   ]
  },
  {
   "cell_type": "code",
   "execution_count": 157,
   "metadata": {},
   "outputs": [
    {
     "name": "stdout",
     "output_type": "stream",
     "text": [
      "2.336449384689331\n"
     ]
    }
   ],
   "source": [
    "train(10000, 32, 0.01)\n",
    "calc_overall_loss()      # good enough on dev"
   ]
  },
  {
   "cell_type": "code",
   "execution_count": 158,
   "metadata": {},
   "outputs": [
    {
     "name": "stdout",
     "output_type": "stream",
     "text": [
      "2.327794313430786\n"
     ]
    }
   ],
   "source": [
    "calc_overall_loss(x_tr, y_tr)   # calc loss on train set"
   ]
  },
  {
   "attachments": {},
   "cell_type": "markdown",
   "metadata": {},
   "source": [
    "our train and dev are almost equal, so we're not overfitting. But we're underfitting, i.e, our nn is tiny and we can expect perf improvement by scaling up size of nn"
   ]
  },
  {
   "cell_type": "code",
   "execution_count": 193,
   "metadata": {},
   "outputs": [
    {
     "name": "stdout",
     "output_type": "stream",
     "text": [
      "total number of parameters 10281\n"
     ]
    }
   ],
   "source": [
    "## init large model\n",
    "\n",
    "g = torch.Generator().manual_seed(SEED)\n",
    "C = torch.randn((27,2), generator=g)\n",
    "W1 = torch.randn((6, 300), generator=g)\n",
    "b1 = torch.randn(300, generator=g)\n",
    "W2 = torch.randn((300, 27), generator=g)\n",
    "b2 = torch.randn((27), generator=g)\n",
    "parameters = [C, W1, b1, W2, b2]\n",
    "\n",
    "print(f\"total number of parameters {sum(p.nelement() for p in parameters)}\")\n",
    "\n",
    "for p in parameters:\n",
    "    p.requires_grad = True   "
   ]
  },
  {
   "attachments": {},
   "cell_type": "markdown",
   "metadata": {},
   "source": [
    "now we have >10k parameters"
   ]
  },
  {
   "cell_type": "code",
   "execution_count": 194,
   "metadata": {},
   "outputs": [],
   "source": [
    "# let's do minibatch training and return history/stats\n",
    "def train(steps=10, batch_size=32, lr=0.1):\n",
    "    lossi = []\n",
    "    stepsi = []\n",
    "    for i in range(steps):\n",
    "        # minibatch\n",
    "        ix = torch.randint(0, x_tr.shape[0], (batch_size,))\n",
    "        # forward pass\n",
    "        emb = C[x_tr[ix]]\n",
    "        h = torch.tanh(emb.view(-1, 6) @ W1 + b1)\n",
    "        logits = h @ W2 + b2\n",
    "        loss = F.cross_entropy(logits, y_tr[ix])\n",
    "        # print(loss.item())\n",
    "        \n",
    "        # backward pass\n",
    "        for p in parameters:\n",
    "            p.grad = None\n",
    "        loss.backward()\n",
    "        \n",
    "        # update parameters\n",
    "        for p in parameters:\n",
    "            p.data += -lr * p.grad\n",
    "        \n",
    "        # track stats\n",
    "        lossi.append(loss.item())\n",
    "        stepsi.append(i)\n",
    "    return stepsi, lossi"
   ]
  },
  {
   "cell_type": "code",
   "execution_count": 195,
   "metadata": {},
   "outputs": [
    {
     "name": "stdout",
     "output_type": "stream",
     "text": [
      "2.593662738800049\n"
     ]
    }
   ],
   "source": [
    "steps, loss = train(30000, 32, 0.1)\n",
    "calc_overall_loss()"
   ]
  },
  {
   "cell_type": "code",
   "execution_count": 196,
   "metadata": {},
   "outputs": [
    {
     "data": {
      "text/plain": [
       "[<matplotlib.lines.Line2D at 0x2a1cc74f0>]"
      ]
     },
     "execution_count": 196,
     "metadata": {},
     "output_type": "execute_result"
    },
    {
     "data": {
      "image/png": "[encoded data removed]",
      "text/plain": [
       "<Figure size 640x480 with 1 Axes>"
      ]
     },
     "metadata": {},
     "output_type": "display_data"
    }
   ],
   "source": [
    "plt.plot(steps, loss)"
   ]
  },
  {
   "attachments": {},
   "cell_type": "markdown",
   "metadata": {},
   "source": [
    "the line got thicker because there are lot of fluctuations b/c of minibatches, one way to improve the gradient/model is to increase the batch size so that we get good loss without crazy fluctuations"
   ]
  },
  {
   "cell_type": "code",
   "execution_count": 197,
   "metadata": {},
   "outputs": [
    {
     "name": "stdout",
     "output_type": "stream",
     "text": [
      "2.534715175628662\n"
     ]
    }
   ],
   "source": [
    "# let's train more\n",
    "steps, loss = train(30000, 32, 0.1)\n",
    "calc_overall_loss()"
   ]
  },
  {
   "cell_type": "code",
   "execution_count": 198,
   "metadata": {},
   "outputs": [
    {
     "data": {
      "text/plain": [
       "[<matplotlib.lines.Line2D at 0x2ac75d660>]"
      ]
     },
     "execution_count": 198,
     "metadata": {},
     "output_type": "execute_result"
    },
    {
     "data": {
      "image/png": "[encoded data removed]",
      "text/plain": [
       "<Figure size 640x480 with 1 Axes>"
      ]
     },
     "metadata": {},
     "output_type": "display_data"
    }
   ],
   "source": [
    "# this will be meaningless as we overwritten the prev stuff\n",
    "plt.plot(steps, loss)"
   ]
  },
  {
   "attachments": {},
   "cell_type": "markdown",
   "metadata": {},
   "source": [
    "maybe decreasing but not obvious"
   ]
  },
  {
   "cell_type": "code",
   "execution_count": 199,
   "metadata": {},
   "outputs": [
    {
     "name": "stdout",
     "output_type": "stream",
     "text": [
      "2.4361770153045654\n"
     ]
    }
   ],
   "source": [
    "# let's train more\n",
    "steps, loss = train(30000, 32, 0.05) # let's half the lr\n",
    "calc_overall_loss()"
   ]
  },
  {
   "cell_type": "code",
   "execution_count": 200,
   "metadata": {},
   "outputs": [
    {
     "name": "stdout",
     "output_type": "stream",
     "text": [
      "2.426591634750366\n"
     ]
    }
   ],
   "source": [
    "# let's train once more\n",
    "steps, loss = train(30000, 32, 0.05)\n",
    "calc_overall_loss()"
   ]
  },
  {
   "cell_type": "code",
   "execution_count": 201,
   "metadata": {},
   "outputs": [
    {
     "name": "stdout",
     "output_type": "stream",
     "text": [
      "2.4180502891540527\n"
     ]
    }
   ],
   "source": [
    "# let's train once more\n",
    "steps, loss = train(30000, 32, 0.05)\n",
    "calc_overall_loss()"
   ]
  },
  {
   "cell_type": "code",
   "execution_count": 202,
   "metadata": {},
   "outputs": [
    {
     "name": "stdout",
     "output_type": "stream",
     "text": [
      "2.4179487228393555\n"
     ]
    }
   ],
   "source": [
    "# let's train once more\n",
    "steps, loss = train(30000, 32, 0.05)\n",
    "calc_overall_loss()"
   ]
  },
  {
   "cell_type": "code",
   "execution_count": 203,
   "metadata": {},
   "outputs": [
    {
     "name": "stdout",
     "output_type": "stream",
     "text": [
      "2.3454651832580566\n"
     ]
    }
   ],
   "source": [
    "# let's train more\n",
    "steps, loss = train(30000, 32, 0.01)        # reduce lr\n",
    "calc_overall_loss()"
   ]
  },
  {
   "cell_type": "code",
   "execution_count": 204,
   "metadata": {},
   "outputs": [
    {
     "name": "stdout",
     "output_type": "stream",
     "text": [
      "2.344560146331787\n"
     ]
    }
   ],
   "source": [
    "# let's train once more\n",
    "steps, loss = train(30000, 32, 0.01)\n",
    "calc_overall_loss()"
   ]
  },
  {
   "cell_type": "code",
   "execution_count": 209,
   "metadata": {},
   "outputs": [
    {
     "name": "stdout",
     "output_type": "stream",
     "text": [
      "2.342893362045288\n"
     ]
    }
   ],
   "source": [
    "# let's train more\n",
    "steps, loss = train(30000, 32, 0.01)\n",
    "calc_overall_loss()"
   ]
  },
  {
   "cell_type": "code",
   "execution_count": 210,
   "metadata": {},
   "outputs": [
    {
     "name": "stdout",
     "output_type": "stream",
     "text": [
      "2.3295812606811523\n"
     ]
    }
   ],
   "source": [
    "calc_overall_loss(x_tr, y_tr)"
   ]
  },
  {
   "attachments": {},
   "cell_type": "markdown",
   "metadata": {},
   "source": [
    "Model is trying to overfit and not improve on dev set. This can be b/c we have lot of parameters and we're cramming all the characters to 2 dimensional and this may not be enough for the model to converge and increasing the embedding dimension may improve the performance"
   ]
  },
  {
   "cell_type": "code",
   "execution_count": 211,
   "metadata": {},
   "outputs": [
    {
     "data": {
      "image/png": "[encoded data removed]",
      "text/plain": [
       "<Figure size 800x800 with 1 Axes>"
      ]
     },
     "metadata": {},
     "output_type": "display_data"
    }
   ],
   "source": [
    "# let's visualize the embeddings\n",
    "plt.figure(figsize=(8,8))\n",
    "plt.scatter(C[:, 0].data, C[:, 1].data, s=200)\n",
    "for i in range(C.shape[0]):\n",
    "    plt.text(C[i,0].item(), C[i,1].item(), itoc[i], ha=\"center\", va=\"center\", color=\"white\")\n",
    "plt.grid(\"minor\")"
   ]
  },
  {
   "attachments": {},
   "cell_type": "markdown",
   "metadata": {},
   "source": [
    "nn is trying to cluster and seperate the characters. \n",
    "\n",
    "eg. \n",
    "\n",
    "1) vowels are roughly clustered\n",
    "\n",
    "2) '.' and 'q' are outliers etc\n",
    "\n",
    "so this is definitely not random"
   ]
  },
  {
   "attachments": {},
   "cell_type": "markdown",
   "metadata": {},
   "source": [
    "since we're not improving even after increasing the model size, let's increase the embedding size and check the results"
   ]
  },
  {
   "cell_type": "code",
   "execution_count": 219,
   "metadata": {},
   "outputs": [
    {
     "name": "stdout",
     "output_type": "stream",
     "text": [
      "total number of parameters 11897\n"
     ]
    }
   ],
   "source": [
    "## init large model\n",
    "\n",
    "g = torch.Generator().manual_seed(SEED)\n",
    "C = torch.randn((27,10), generator=g)       # take embed size as 10\n",
    "W1 = torch.randn((30, 200), generator=g)    # let's reduce the hidden layer \n",
    "b1 = torch.randn(200, generator=g)\n",
    "W2 = torch.randn((200, 27), generator=g)\n",
    "b2 = torch.randn((27), generator=g)\n",
    "parameters = [C, W1, b1, W2, b2]\n",
    "\n",
    "print(f\"total number of parameters {sum(p.nelement() for p in parameters)}\")\n",
    "\n",
    "for p in parameters:\n",
    "    p.requires_grad = True   "
   ]
  },
  {
   "attachments": {},
   "cell_type": "markdown",
   "metadata": {},
   "source": [
    "now we have >11k parameters"
   ]
  },
  {
   "cell_type": "code",
   "execution_count": 220,
   "metadata": {},
   "outputs": [],
   "source": [
    "lossi = []\n",
    "stepsi = []"
   ]
  },
  {
   "cell_type": "code",
   "execution_count": 221,
   "metadata": {},
   "outputs": [],
   "source": [
    "# let's do minibatch training and return history/stats\n",
    "def train(steps=10, batch_size=32, lr=0.1):\n",
    "    for i in range(steps):\n",
    "        # minibatch\n",
    "        ix = torch.randint(0, x_tr.shape[0], (batch_size,))\n",
    "        # forward pass\n",
    "        emb = C[x_tr[ix]]\n",
    "        h = torch.tanh(emb.view(-1, 30) @ W1 + b1)\n",
    "        logits = h @ W2 + b2\n",
    "        loss = F.cross_entropy(logits, y_tr[ix])\n",
    "        # print(loss.item())\n",
    "        \n",
    "        # backward pass\n",
    "        for p in parameters:\n",
    "            p.grad = None\n",
    "        loss.backward()\n",
    "        \n",
    "        # update parameters\n",
    "        for p in parameters:\n",
    "            p.data += -lr * p.grad\n",
    "        \n",
    "        # track stats\n",
    "        lossi.append(loss.log10().item())       # track log loss so that y-axis is meaningful\n",
    "        stepsi.append(i)\n",
    "    return stepsi, lossi"
   ]
  },
  {
   "cell_type": "code",
   "execution_count": 222,
   "metadata": {},
   "outputs": [],
   "source": [
    "def calc_overall_loss(x=x_dev, y=y_dev):\n",
    "    # calculate loss for the entire training set\n",
    "    emb = C[x]\n",
    "    h = torch.tanh(emb.view(-1, 30) @ W1 + b1)\n",
    "    logits = h @ W2 + b2\n",
    "    loss = F.cross_entropy(logits, y)\n",
    "    print(loss.item())"
   ]
  },
  {
   "cell_type": "code",
   "execution_count": 223,
   "metadata": {},
   "outputs": [
    {
     "name": "stdout",
     "output_type": "stream",
     "text": [
      "2.466907024383545\n"
     ]
    }
   ],
   "source": [
    "steps, loss = train(50000, 32, 0.1)\n",
    "calc_overall_loss()"
   ]
  },
  {
   "cell_type": "code",
   "execution_count": 225,
   "metadata": {},
   "outputs": [
    {
     "name": "stdout",
     "output_type": "stream",
     "text": [
      "2.4514503479003906\n"
     ]
    }
   ],
   "source": [
    "calc_overall_loss(x_tr, y_tr)"
   ]
  },
  {
   "cell_type": "code",
   "execution_count": 224,
   "metadata": {},
   "outputs": [
    {
     "data": {
      "text/plain": [
       "[<matplotlib.lines.Line2D at 0x2ab35cf70>]"
      ]
     },
     "execution_count": 224,
     "metadata": {},
     "output_type": "execute_result"
    },
    {
     "data": {
      "image/png": "[encoded data removed]",
      "text/plain": [
       "<Figure size 640x480 with 1 Axes>"
      ]
     },
     "metadata": {},
     "output_type": "display_data"
    }
   ],
   "source": [
    "plt.plot(steps, loss)"
   ]
  },
  {
   "cell_type": "markdown",
   "metadata": {},
   "source": [
    "the line got thicker because there are lot of fluctuations b/c of minibatches, one way to improve the gradient/model is to increase the batch size so that we get good loss without crazy fluctuations"
   ]
  },
  {
   "cell_type": "code",
   "execution_count": 226,
   "metadata": {},
   "outputs": [
    {
     "name": "stdout",
     "output_type": "stream",
     "text": [
      "2.307107925415039\n"
     ]
    }
   ],
   "source": [
    "# let's train more\n",
    "steps, loss = train(50000, 32, 0.01)    # decay lr\n",
    "calc_overall_loss()"
   ]
  },
  {
   "cell_type": "code",
   "execution_count": 227,
   "metadata": {},
   "outputs": [
    {
     "name": "stdout",
     "output_type": "stream",
     "text": [
      "2.29162335395813\n"
     ]
    }
   ],
   "source": [
    "calc_overall_loss(x_tr, y_tr)"
   ]
  },
  {
   "attachments": {},
   "cell_type": "markdown",
   "metadata": {},
   "source": [
    "improved from the prev model 🥳\n",
    "\n",
    "so increasing the embed dimension worked"
   ]
  },
  {
   "cell_type": "code",
   "execution_count": 231,
   "metadata": {},
   "outputs": [
    {
     "name": "stdout",
     "output_type": "stream",
     "text": [
      "2.306823492050171\n"
     ]
    }
   ],
   "source": [
    "# let's train more\n",
    "steps, loss = train(50000, 32, 0.01)\n",
    "calc_overall_loss()"
   ]
  },
  {
   "cell_type": "code",
   "execution_count": 232,
   "metadata": {},
   "outputs": [
    {
     "name": "stdout",
     "output_type": "stream",
     "text": [
      "2.289712429046631\n"
     ]
    }
   ],
   "source": [
    "calc_overall_loss(x_tr, y_tr)"
   ]
  },
  {
   "attachments": {},
   "cell_type": "markdown",
   "metadata": {},
   "source": [
    "we can see our dev and train loss is starting to diverge a bit"
   ]
  },
  {
   "cell_type": "code",
   "execution_count": 233,
   "metadata": {},
   "outputs": [
    {
     "name": "stdout",
     "output_type": "stream",
     "text": [
      "2.3027825355529785\n"
     ]
    }
   ],
   "source": [
    "# let's train more\n",
    "steps, loss = train(50000, 32, 0.01)\n",
    "calc_overall_loss()"
   ]
  },
  {
   "cell_type": "code",
   "execution_count": 234,
   "metadata": {},
   "outputs": [
    {
     "name": "stdout",
     "output_type": "stream",
     "text": [
      "2.2806904315948486\n"
     ]
    }
   ],
   "source": [
    "calc_overall_loss(x_tr, y_tr)"
   ]
  },
  {
   "attachments": {},
   "cell_type": "markdown",
   "metadata": {},
   "source": [
    "Many ways to continue improving the model - \n",
    "\n",
    "1) increase the hidden layer size\n",
    "\n",
    "2) increase the embedding dimension\n",
    "\n",
    "3) increase the context length\n",
    "\n",
    "4) increase batch size for efficient training times/gradient steps\n",
    "\n",
    "5) try more lrs and lr decays \n",
    "\n",
    "etc ...."
   ]
  },
  {
   "attachments": {},
   "cell_type": "markdown",
   "metadata": {},
   "source": [
    "## inference"
   ]
  },
  {
   "cell_type": "code",
   "execution_count": 243,
   "metadata": {},
   "outputs": [],
   "source": [
    "torch.save({\"emb\": C, \"w1\": W1, \"b1\": b1, \"w2\": W2, \"b2\": b2}, \"mlp.pt\")"
   ]
  },
  {
   "cell_type": "code",
   "execution_count": 244,
   "metadata": {},
   "outputs": [],
   "source": [
    "mlp_layers = torch.load(\"mlp.pt\")"
   ]
  },
  {
   "cell_type": "code",
   "execution_count": 240,
   "metadata": {},
   "outputs": [
    {
     "name": "stdout",
     "output_type": "stream",
     "text": [
      "anu.\n",
      "den.\n",
      "tis.\n",
      "maridu.\n",
      "davmubunderlayan.\n",
      "cottah.\n",
      "lavan.\n",
      "epindenden.\n",
      "diza.\n",
      "kumar.\n"
     ]
    }
   ],
   "source": [
    "g = torch.Generator().manual_seed(SEED)\n",
    "n = 10\n",
    "block_size = 3\n",
    "for _ in range(n):  # predict n words\n",
    "    out = []\n",
    "    context = [0]*block_size\n",
    "    while True:\n",
    "        emb = C[torch.tensor([context])]\n",
    "        h = torch.tanh(emb.view(1,-1) @ W1 + b1)        # create batch_size 1\n",
    "        logits = h @ W2 + b2\n",
    "        probs = F.softmax(logits, dim=1)\n",
    "        ix = torch.multinomial(probs, num_samples=1, generator=g).item()\n",
    "        context = context[1:] + [ix]\n",
    "        out.append(ix)\n",
    "        if ix == 0:\n",
    "            break\n",
    "    print(''.join(itoc[i] for i in out))\n",
    "    "
   ]
  },
  {
   "cell_type": "code",
   "execution_count": 248,
   "metadata": {},
   "outputs": [],
   "source": [
    "c, w1, b1, w2, b2 = mlp_layers[\"emb\"], mlp_layers['w1'], mlp_layers['b1'], mlp_layers['w2'], mlp_layers['b2']"
   ]
  },
  {
   "cell_type": "code",
   "execution_count": 249,
   "metadata": {},
   "outputs": [
    {
     "name": "stdout",
     "output_type": "stream",
     "text": [
      "anu.\n",
      "den.\n",
      "tis.\n",
      "maridu.\n",
      "davmubunderlayan.\n",
      "cottah.\n",
      "lavan.\n",
      "epindenden.\n",
      "diza.\n",
      "kumar.\n"
     ]
    }
   ],
   "source": [
    "g = torch.Generator().manual_seed(SEED)\n",
    "n = 10\n",
    "block_size = 3\n",
    "for _ in range(n):  # predict n words\n",
    "    out = []\n",
    "    context = [0]*block_size\n",
    "    while True:\n",
    "        emb = c[torch.tensor([context])]\n",
    "        h = torch.tanh(emb.view(1,-1) @ w1 + b1)        # create batch_size 1\n",
    "        logits = h @ w2 + b2\n",
    "        probs = F.softmax(logits, dim=1)\n",
    "        ix = torch.multinomial(probs, num_samples=1, generator=g).item()\n",
    "        context = context[1:] + [ix]\n",
    "        out.append(ix)\n",
    "        if ix == 0:\n",
    "            break\n",
    "    print(''.join(itoc[i] for i in out))\n",
    "    "
   ]
  },
  {
   "cell_type": "code",
   "execution_count": null,
   "metadata": {},
   "outputs": [],
   "source": []
  }
 ],
 "metadata": {
  "kernelspec": {
   "display_name": "torch-dev",
   "language": "python",
   "name": "python3"
  },
  "language_info": {
   "codemirror_mode": {
    "name": "ipython",
    "version": 3
   },
   "file_extension": ".py",
   "mimetype": "text/x-python",
   "name": "python",
   "nbconvert_exporter": "python",
   "pygments_lexer": "ipython3",
   "version": "3.10.10"
  },
  "orig_nbformat": 4
 },
 "nbformat": 4,
 "nbformat_minor": 2
}
